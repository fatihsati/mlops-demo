{
 "cells": [
  {
   "cell_type": "code",
   "execution_count": 1,
   "metadata": {},
   "outputs": [],
   "source": [
    "import mlflow\n",
    "\n",
    "tracking_uri = \"http://localhost:8080\"\n",
    "mlflow.set_tracking_uri(tracking_uri)"
   ]
  },
  {
   "cell_type": "code",
   "execution_count": 2,
   "metadata": {},
   "outputs": [
    {
     "name": "stderr",
     "output_type": "stream",
     "text": [
      "[nltk_data] Downloading package movie_reviews to\n",
      "[nltk_data]     /Users/fatih/nltk_data...\n",
      "[nltk_data]   Unzipping corpora/movie_reviews.zip.\n"
     ]
    },
    {
     "data": {
      "text/plain": [
       "2000"
      ]
     },
     "execution_count": 2,
     "metadata": {},
     "output_type": "execute_result"
    }
   ],
   "source": [
    "import nltk\n",
    "import random\n",
    "from nltk.corpus import movie_reviews\n",
    "from sklearn.feature_extraction.text import TfidfVectorizer\n",
    "from sklearn.linear_model import LogisticRegression\n",
    "from sklearn.pipeline import make_pipeline\n",
    "from sklearn.model_selection import train_test_split\n",
    "from sklearn.metrics import accuracy_score\n",
    "\n",
    "DATASET = \"movie_reviews\"\n",
    "EXPERIMENT_NAME = \"movie-sentiment-analysis\"\n",
    "# Download dataset\n",
    "nltk.download(DATASET)\n",
    "\n",
    "# Load dataset\n",
    "documents = [(list(movie_reviews.words(fileid)), category)\n",
    "             for category in movie_reviews.categories()\n",
    "             for fileid in movie_reviews.fileids(category)]\n",
    "random.shuffle(documents)\n",
    "len(documents)"
   ]
  },
  {
   "cell_type": "code",
   "execution_count": 3,
   "metadata": {},
   "outputs": [],
   "source": [
    "# Split data into features (text) and labels (sentiments)\n",
    "texts = [\" \".join(words) for words, label in documents]\n",
    "labels = [label for words, label in documents]\n",
    "X_train, X_test, y_train, y_test = train_test_split(texts, labels, test_size=0.2, random_state=42)"
   ]
  },
  {
   "cell_type": "code",
   "execution_count": null,
   "metadata": {},
   "outputs": [
    {
     "name": "stderr",
     "output_type": "stream",
     "text": [
      "2025/02/22 15:36:46 INFO mlflow.tracking.fluent: Experiment with name 'movie-sentiment-analysis' does not exist. Creating a new experiment.\n",
      "Successfully registered model 'movie-sentiment'.\n",
      "2025/02/22 15:36:54 INFO mlflow.store.model_registry.abstract_store: Waiting up to 300 seconds for model version to finish creation. Model name: movie-sentiment, version 1\n",
      "Created version '1' of model 'movie-sentiment'.\n"
     ]
    }
   ],
   "source": [
    "from matplotlib import pyplot as plt\n",
    "from mlflow.models import infer_signature\n",
    "from sklearn.metrics import classification_report, confusion_matrix\n",
    "import seaborn as sns\n",
    "\n",
    "# it will create a new experiment if it doesn't exist\n",
    "experiment = mlflow.set_experiment(experiment_name=EXPERIMENT_NAME)\n",
    "\n",
    "with mlflow.start_run(experiment_id=experiment.experiment_id):\n",
    "    # Train-test split\n",
    "    \n",
    "    tfidf_params = {\n",
    "        \"ngram_range\": (1,3),\n",
    "        \"max_df\": 3,\n",
    "        \"use_idf\": True\n",
    "    }\n",
    "    clf_params = {\n",
    "        \"C\": 1.0,\n",
    "        \"max_iter\": 150,\n",
    "    }\n",
    "    # Create a pipeline with TF-IDF and Logistic Regression\n",
    "    model = make_pipeline(\n",
    "        TfidfVectorizer(**tfidf_params),\n",
    "        LogisticRegression(**clf_params)\n",
    "    )\n",
    "\n",
    "    # log model related params\n",
    "    mlflow.log_params(\n",
    "        params={**tfidf_params, **clf_params}\n",
    "        )\n",
    "    \n",
    "    # Log extra params.\n",
    "    mlflow.log_param(\"dataset_name\", DATASET)\n",
    "\n",
    "    # Train the model\n",
    "    model.fit(X_train, y_train)\n",
    "\n",
    "    # test the model on test set to get the metrics\n",
    "    y_pred = model.predict(X_test)\n",
    "    accuracy = accuracy_score(y_test, y_pred)\n",
    "\n",
    "    # Generate classification report\n",
    "    report = classification_report(y_test, y_pred)\n",
    "    with open(\"./artifacts/classification_report.txt\", \"w\") as f:\n",
    "        f.write(report)\n",
    "    \n",
    "    conf_matrix = confusion_matrix(y_test, y_pred)\n",
    "    sns.heatmap(conf_matrix, annot=True, fmt='d', cmap='Blues', xticklabels=['neg', 'pos'], yticklabels=['neg', 'pos'])\n",
    "    plt.xlabel('Predicted')\n",
    "    plt.ylabel('Actual')\n",
    "    plt.savefig(\"./artifacts/confusion_matrix.png\")\n",
    "    plt.close()\n",
    "\n",
    "    # log metrics to mlflow\n",
    "    mlflow.log_metric(\"accuracy\", accuracy)\n",
    "\n",
    "    # Create a signature for the model\n",
    "    signature = infer_signature(\n",
    "        model_input=X_test[:5],\n",
    "        model_output=y_test[:5]\n",
    "    )\n",
    "    \n",
    "    # save artifacts to mlflow\n",
    "    mlflow.log_artifacts(\"artifacts\")\n",
    "    \n",
    "    # log the model to arficat\n",
    "    model_info = mlflow.sklearn.log_model(\n",
    "        model,\n",
    "        artifact_path=\"model\",\n",
    "        signature=signature\n",
    "    )\n"
   ]
  },
  {
   "cell_type": "code",
   "execution_count": 5,
   "metadata": {},
   "outputs": [
    {
     "name": "stderr",
     "output_type": "stream",
     "text": [
      "Registered model 'movie-sentiment' already exists. Creating a new version of this model...\n",
      "2025/02/22 15:36:59 INFO mlflow.store.model_registry.abstract_store: Waiting up to 300 seconds for model version to finish creation. Model name: movie-sentiment, version 2\n",
      "Created version '2' of model 'movie-sentiment'.\n"
     ]
    }
   ],
   "source": [
    "# register model\n",
    "registered_model_info = mlflow.register_model(model_info.model_uri, \"movie-sentiment\")"
   ]
  },
  {
   "cell_type": "markdown",
   "metadata": {},
   "source": [
    "## Notes on Aliases\n",
    "\n",
    "Aliases can be used for identifying `champion` and `challanger` models. It is possible to load a model by it's alias."
   ]
  },
  {
   "cell_type": "code",
   "execution_count": 6,
   "metadata": {},
   "outputs": [],
   "source": [
    "# give CHALLANGER tag to the model\n",
    "from mlflow import MlflowClient\n",
    "\n",
    "client = MlflowClient(\n",
    "    tracking_uri=tracking_uri,\n",
    "    registry_uri=tracking_uri\n",
    ")\n",
    "\n",
    "client.set_registered_model_alias(\n",
    "    name=\"movie-sentiment\",\n",
    "    alias=\"challanger\",\n",
    "    version=registered_model_info.version\n",
    ")"
   ]
  },
  {
   "cell_type": "markdown",
   "metadata": {},
   "source": [
    "### Validation\n",
    "\n",
    "- Load \"CHALLANGER\" model from registery\n",
    "- Run model in validation dataset\n",
    "- Calculate metrics\n",
    "- compare with Champion (if exists)\n",
    "- Make it champion if better (or first model)"
   ]
  },
  {
   "cell_type": "markdown",
   "metadata": {},
   "source": [
    "## Next Steps\n",
    "\n",
    "- Run a validation script with the original test set.\n",
    "    - Compare results of `challanger` model with the `champion`\n",
    "    - Make `challanger` the new `champion`\n",
    "- Restart all inference services to load new `champion` model from the registery"
   ]
  },
  {
   "cell_type": "markdown",
   "metadata": {},
   "source": [
    "# Inference"
   ]
  },
  {
   "cell_type": "code",
   "execution_count": 1,
   "metadata": {},
   "outputs": [],
   "source": [
    "from mlflow import MlflowClient\n",
    "import mlflow\n",
    "\n",
    "tracking_uri = \"http://localhost:8080\"\n",
    "mlflow.set_tracking_uri(tracking_uri)\n",
    "\n",
    "client = MlflowClient(\n",
    "    tracking_uri=tracking_uri,\n",
    "    registry_uri=tracking_uri\n",
    ")\n"
   ]
  },
  {
   "cell_type": "code",
   "execution_count": 2,
   "metadata": {},
   "outputs": [
    {
     "name": "stdout",
     "output_type": "stream",
     "text": [
      "loading model with uri= models:/movie-sentiment@champion\n"
     ]
    }
   ],
   "source": [
    "MODEL_NAME = \"movie-sentiment\"\n",
    "ALIAS = \"champion\"\n",
    "\n",
    "# model_info = client.get_model_version_by_alias(MODEL_NAME, ALIAS)\n",
    "\n",
    "model_uri = f\"models:/{MODEL_NAME}@{ALIAS}\"\n",
    "print(f\"loading model with uri= {model_uri}\")"
   ]
  },
  {
   "cell_type": "code",
   "execution_count": 3,
   "metadata": {},
   "outputs": [
    {
     "name": "stderr",
     "output_type": "stream",
     "text": [
      "/Library/Frameworks/Python.framework/Versions/3.10/lib/python3.10/site-packages/tqdm/auto.py:21: TqdmWarning: IProgress not found. Please update jupyter and ipywidgets. See https://ipywidgets.readthedocs.io/en/stable/user_install.html\n",
      "  from .autonotebook import tqdm as notebook_tqdm\n",
      "Downloading artifacts: 100%|██████████| 5/5 [00:02<00:00,  2.14it/s]  \n"
     ]
    }
   ],
   "source": [
    "model = mlflow.sklearn.load_model(model_uri)"
   ]
  },
  {
   "cell_type": "code",
   "execution_count": 17,
   "metadata": {},
   "outputs": [
    {
     "data": {
      "text/plain": [
       "'neg'"
      ]
     },
     "execution_count": 17,
     "metadata": {},
     "output_type": "execute_result"
    }
   ],
   "source": [
    "model.predict([\"I hated this movie\"])[0]"
   ]
  },
  {
   "cell_type": "code",
   "execution_count": 3,
   "metadata": {},
   "outputs": [
    {
     "name": "stderr",
     "output_type": "stream",
     "text": [
      "/Library/Frameworks/Python.framework/Versions/3.10/lib/python3.10/site-packages/tqdm/auto.py:21: TqdmWarning: IProgress not found. Please update jupyter and ipywidgets. See https://ipywidgets.readthedocs.io/en/stable/user_install.html\n",
      "  from .autonotebook import tqdm as notebook_tqdm\n",
      "Downloading artifacts: 100%|██████████| 5/5 [00:02<00:00,  1.94it/s]   \n"
     ]
    }
   ],
   "source": [
    "model = mlflow.pyfunc.load_model(model_uri)"
   ]
  },
  {
   "cell_type": "code",
   "execution_count": null,
   "metadata": {},
   "outputs": [],
   "source": []
  }
 ],
 "metadata": {
  "kernelspec": {
   "display_name": "Python 3",
   "language": "python",
   "name": "python3"
  },
  "language_info": {
   "codemirror_mode": {
    "name": "ipython",
    "version": 3
   },
   "file_extension": ".py",
   "mimetype": "text/x-python",
   "name": "python",
   "nbconvert_exporter": "python",
   "pygments_lexer": "ipython3",
   "version": "3.10.11"
  }
 },
 "nbformat": 4,
 "nbformat_minor": 2
}
